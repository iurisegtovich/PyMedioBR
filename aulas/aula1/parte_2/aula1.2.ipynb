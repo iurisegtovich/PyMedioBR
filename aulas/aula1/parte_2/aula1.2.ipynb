{
 "cells": [
  {
   "cell_type": "markdown",
   "metadata": {},
   "source": [
    "* Acesso interativo aqui [[>_]](http://www.pythontutor.com/live.html#code=%23%20ent%C3%A3o%20vamos%20definir%20uma%20fun%C3%A7%C3%A3o%20usando%20a%20sintaxe%20a%20seguir%3A%0Adef%20fat%28mu,N%29%3A%0A%23%20%20%20%23%20%20%20%20%20%23%23%23%23-%3E%20os%20dois%20pontos%20dizem%20que%20as%20intru%C3%A7%C3%B5es%20dessa%20fun%C3%A7%C3%A3o%20come%C3%A7am%20a%20seguir%0A%23%20%20%20%23%20%20%20%20%20%23%23%23-%3E%20o%20que%20est%C3%A1%20entre%20parenteses%20%C3%A9%20chamado%20%22lista%20de%20argumentos%20de%20substitui%C3%A7%C3%A3o%20%28dummy%20arguments%20em%20ingl%C3%8As%29%22%20e%20s%C3%A3o%20as%20coisas%20das%20quais%20essa%20fun%C3%A7%C3%A3o%20depende%20e%20que%20devem%20mudar%20dependendo%20dos%20dados%20do%20problema%0A%23%20%20%20%23%20%20%20%20%20%23%23-%3E%20aqui%20o%20calculo%20de%20fat%20depende%20de%20um%20mu%20e%20de%20um%20N%20dados%0A%23%20%20%20%23%20%20%20%20%20%23-%3E%20separar%20as%20coisas%20por%20v%C3%ADrgula%0A%23%20%20%20%23-%3E%20esse%20%C3%A9%20o%20nome%20da%20fun%C3%A7%C3%A3o%20que%20calcula%20fat%0A%23-%3E%20essa%20%C3%A9%20a%20palavra%20chave%20para%20definir%20fun%C3%A7%C3%B5es%0A%20%20%20%20return%20mu*N%0A%23%20%20%20%23%20%20%20%20%20%20%23-%3E%20o%20resultado%20dessa%20conta%20%C3%A9%20o%20que%20a%20fun%C3%A7%C3%A3o%20%22devolve%20quando%20tentarmos%20us%C3%A1-la%0A%23%20%20%20%23-%3E%20essa%20%C3%A9%20a%20palavra%20chave%20para%20retornar%20o%20valor%20calculado%0A%23-%3E%20tem%20q%20ter%20um%20espa%C3%A7o%20aqui%20antes%20do%20return%20do%20tamanho%20de%201%20TAB,%20isso%20se%20chama%20%22identa%C3%A7%C3%A3o%22%20e%20diz%20o%20que%20faz%20parte%20da%20fun%C3%A7%C3%A3o%20e%20o%20que%20j%C3%A1%20n%C3%A3o%20faz%20mais%20parte%0A%23%20daqui%20para%20baixo%20n%C3%A3o%20faz%20mais%20parte%20da%20fun%C3%A7%C3%A3o%0A%23%20Note%20que%20apareceu%20na%20tabela%20global%20frame%20uma%20c%C3%A9lula%20para%20a%20fun%C3%A7%C3%A3o%20fat%20e%20um%20setinha%20dizendo%20que%20fat%20n%C3%A3o%20tem%20um%20valor,%20fat%20chama%20uma%20fun%C3%A7%C3%A3o%20que%20depende%20de%20mu%20e%20N%20sendo%20a%20princ%C3%ADpio%20desconhecidos...%0A%0Aresposta_fat%20%3D%20fat%28mu%3D0.2,N%3D25%29%0A%0Aprint%28resposta_fat%29%0A%0Adef%20N%28P,Fy%29%3A%0A%20%20%20%20return%20P-Fy%0A%20%20%20%20%0Adef%20P%28m,g%29%3A%0A%20%20%20%20return%20m*g%0A%20%20%20%20%0Adef%20Fy%28F,theta_graus%29%3A%0A%20%20%20%20import%20math%0A%20%20%20%20fator_de_conversao_grau_para_rad%20%3D%20%28%202*math.pi%20/%20360%20%29%20%23um%20c%C3%ADrculo%20inteiro%20tem%20360%20graus,%20equivalente%20a%202pi%20radianos,%20ent%C3%A3o%20o%20fator%20de%20convers%C3%A3o%20de%20graus%20para%20radianos%20%C3%A9%20esse%20aqui%0A%20%20%20%20theta_rad%20%3D%20theta_graus%20*%20fator_de_conversao_grau_para_rad%0A%0A%20%20%20%20return%20F*math.sin%28theta_rad%29%20%20%20%20%20%0A%0AF_dado%20%3D%2050%20%23escrevemos%20F_dado%20para%20n%C3%A3o%20nos%20confundirmos%20sobre%20qual%20vari%C3%A1vel%20corresponde%20ao%20valor%20dado%20no%20caso%20atual,%20enquanto%20o%20F%20na%20fun%C3%A7%C3%A3o%20vai%20receber%20o%20valor%20de%20qualquer%20varia%C3%A7%C3%A3o%20de%20problema%20apenas%20na%20hora%20em%20que%20chamarmos%20a%20fun%C3%A7%C3%A3o%0Atheta_dado%3D30%0A%0AFy_calc%20%3D%20Fy%28F%3DF_dado,theta_graus%3Dtheta_dado%29%0A%0Am_dado%3D5%0Ag_Terra%3D10%0AP_calc%3DP%28m%3Dm_dado,g%3Dg_Terra%29%0AN_calc%3DN%28P%3DP_calc,Fy%3DFy_calc%29%0Amu_dado%3D0.2%0A%0Aresposta_fat%3Dfat%28mu%3Dmu_dado,N%3DN_calc%29%0A%0Adef%20RESOLVE%28F,theta_graus,m,g,mu%29%3A%0A%20%20%20%20Fy_re%20%3D%20Fy%28F,theta_graus%29%20%23vamos%20identificar%20nossa%20respostas%20intermedi%C3%A1rias%20com%20_re%20para%20poder%20dar%20uma%20resposta%20compelta%20%20%20%20%0A%20%20%20%20P_re%20%3D%20P%28m,g%29%0A%20%20%20%20N_re%20%3D%20N%28P_re,Fy_re%29%0A%20%20%20%20fat_re%20%3D%20fat%28mu,N_re%29%0A%20%20%20%20return%20fat_re,%20N_re,%20P_re,%20Fy_re%20%23a%20respota%20dessa%20fun%C3%A7%C3%A3o%20vai%20se%20rum%20%22lista%22%20com%20todas%20as%20respostas%20intermedi%C3%A1rias%0A%0ARESPOSTA%3DRESOLVE%28F%3D50,theta_graus%3D30,m%3D5,g%3D10,mu%3D0.2%29&cumulative=false&curInstr=57&heapPrimitives=false&mode=display&origin=opt-live.js&py=3&rawInputLstJSON=%5B%5D&textReferences=false)\n",
    "* Texto didático comentado abaixo:"
   ]
  },
  {
   "cell_type": "code",
   "execution_count": 1,
   "metadata": {
    "collapsed": false
   },
   "outputs": [
    {
     "name": "stdout",
     "output_type": "stream",
     "text": [
      "5.0\n"
     ]
    }
   ],
   "source": [
    "# tendo visto a parte 1\n",
    "# o que fazer se:\n",
    "# quisermos resolver com uma força F diferente?\n",
    "# quisermos resolver com um angulo diferente?\n",
    "# para isso existem as \"funções\" na programação\n",
    "# vamos pegar cada equação utilizada e em vez de calcular elas coms os dados do problema vamos definir funções que vão funcionar para esse desenho com quaisquer variações nos dados.\n",
    "# podemos começar pelo objetivo, calcular a força de atrito:\n",
    "#lembrem:\n",
    "# fat = μ x N\n",
    "# então vamos definir uma função usando a sintaxe a seguir:\n",
    "def fat(mu,N):\n",
    "#   #     ####-> os dois pontos dizem que as intruções dessa função começam a seguir\n",
    "#   #     ###-> o que está entre parenteses é chamado \"lista de argumentos de substituição (dummy arguments em inglÊs)\" e são as coisas das quais essa função depende e que devem mudar dependendo dos dados do problema\n",
    "#   #     ##-> aqui o calculo de fat depende de um mu e de um N dados\n",
    "#   #     #-> separar as coisas por vírgula\n",
    "#   #-> esse é o nome da função que calcula fat\n",
    "#-> essa é a palavra chave para definir funções\n",
    "    return mu*N\n",
    "#   #      #-> o resultado dessa conta é o que a função \"devolve quando tentarmos usá-la\n",
    "#   #-> essa é a palavra chave para retornar o valor calculado\n",
    "#-> tem q ter um espaço aqui antes do return do tamanho de 1 TAB, isso se chama \"identação\" e diz o que faz parte da função e o que já não faz mais parte\n",
    "# daqui para baixo não faz mais parte da função\n",
    "# Note que apareceu na tabela global frame uma célula para a função fat e um setinha dizendo que fat não tem um valor, fat chama uma função que depende de mu e N sendo a princípio desconhecidos...\n",
    "\n",
    "#exemplo de usar a função\n",
    "#lembrando da resposta na aula1, o valor de mu foi dado como 0,2 e o de N foi calculado como 25 N\n",
    "#então essa função deve retornar a força de atrito q era a resposta da questão se fornecermos a ela esses valores\n",
    "#AGORA muita atenção ao que acontece na tabela conforme você apertar o botão Forward e passar pela linha a seguir\n",
    "#até agora cada clique em forward andava uma linha no codigo\n",
    "#agora como nós vamos chamar a função, nós vamos ver um pulo no código lá para dentro da função, fazer as contas l, e depois voltar aqui!\n",
    "resposta_fat = fat(mu=0.2,N=25)\n",
    "#            # # aqui \"chamamos\" a função usando como argumentos REAIS (actual arguments em inlgÊs) os valores de 0.2 e 25 no lugar dos argumentos de substituição mu e N respectivamente\n",
    "#            # atribuimos o resultado\n",
    "# à variavel resposta_fat\n",
    "#podemos ver o valor de reposta na tabela global frame (no site) e podemos usar a função de imprimir\n",
    "print(resposta_fat)\n",
    "#seguindo o mesmo raciocínio, vamos transformar todas as \"equações\" envolvidas nesse problema em \"funções\" de programação\n",
    "\n",
    "def N(P,Fy):\n",
    "    return P-Fy\n",
    "    \n",
    "def P(m,g):\n",
    "    return m*g\n",
    "    \n",
    "def Fy(F,theta_graus):\n",
    "         #-> aqui escrevemos que é em grau para não confundirmos!\n",
    "    import math\n",
    "    #      #-> esse é o pacote de matemática (math em inglês) básica do python, precisamos dele para fazer contas com seno de qualquer ângulo que não seja notável\n",
    "    #-> essa é palavra chave para importar pacotes extra para nos auxiliar\n",
    "    fator_de_conversao_grau_para_rad = ( 2*math.pi / 360 ) #um círculo inteiro tem 360 graus, equivalente a 2pi radianos, então o fator de conversão de graus para radianos é esse aqui\n",
    "    theta_rad = theta_graus * fator_de_conversao_grau_para_rad\n",
    "    #-> essa variável guarda o valor dos angulos convertido para radianos\n",
    "    return F*math.sin(theta_rad)     \n",
    "             #        #-> essa função trabalha com angulos em radianos!! por isso precisamos fazer a conversão acima\n",
    "             # a função seno (sin em inglês) está disponível dentro do pacote math,. então usamos math.sin para chamar ela de lá\n",
    "#agora que já escrevemos todas as funções podemos testá-las resolvendo o mesmo problema de novo, e depois podemos resolver qualquer variação \n",
    "\n",
    "F_dado = 50 #escrevemos F_dado para não nos confundirmos sobre qual variável corresponde ao valor dado no caso atual, enquanto o F na função vai receber o valor de qualquer variação de problema apenas na hora em que chamarmos a função\n",
    "theta_dado=30\n",
    "\n",
    "Fy_calc = Fy(F=F_dado,theta_graus=theta_dado)\n",
    "#note aqui a distinção entre F e F_dado\n",
    "# a leitura do que essa linha faz é mais ou menos assim:\n",
    "#à variável Fy_calc, atribuímos(=) o valor calculado pela função Fy, na caso em q a variavel F da qual essa função depende assume o valor de F_dado, e a variável theta assum o valor de theta_dado\n",
    "#CONTINUANDO...\n",
    "m_dado=5\n",
    "g_Terra=10\n",
    "P_calc=P(m=m_dado,g=g_Terra)\n",
    "N_calc=N(P=P_calc,Fy=Fy_calc)\n",
    "mu_dado=0.2\n",
    "#vamos fazer a conta para resposta_fat DE NOVO agora que já seguimos toda a lógica das funções:\n",
    "resposta_fat=fat(mu=mu_dado,N=N_calc)\n",
    "#Vamos fazer uma função única para resolver o problema de uma vez?\n",
    "#vamos lembrar de todas as dependencias e colocar ela na lista de argumentos da função\n",
    "def RESOLVE(F,theta_graus,m,g,mu):\n",
    "    Fy_re = Fy(F,theta_graus) #vamos identificar nossa respostas intermediárias com _re para poder dar uma resposta compelta    \n",
    "    P_re = P(m,g)\n",
    "    N_re = N(P_re,Fy_re)\n",
    "    fat_re = fat(mu,N_re)\n",
    "    return fat_re, N_re, P_re, Fy_re #a respota dessa função vai se rum \"lista\" com todas as respostas intermediárias\n",
    "#testar\n",
    "RESPOSTA=RESOLVE(F=50,theta_graus=30,m=5,g=10,mu=0.2)"
   ]
  }
 ],
 "metadata": {
  "anaconda-cloud": {},
  "kernelspec": {
   "display_name": "Python [conda root]",
   "language": "python",
   "name": "conda-root-py"
  },
  "language_info": {
   "codemirror_mode": {
    "name": "ipython",
    "version": 3
   },
   "file_extension": ".py",
   "mimetype": "text/x-python",
   "name": "python",
   "nbconvert_exporter": "python",
   "pygments_lexer": "ipython3",
   "version": "3.5.2"
  }
 },
 "nbformat": 4,
 "nbformat_minor": 1
}
