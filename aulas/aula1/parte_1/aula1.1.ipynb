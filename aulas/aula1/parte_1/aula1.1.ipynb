{
 "cells": [
  {
   "cell_type": "markdown",
   "metadata": {},
   "source": [
    "* Acesso interativo aqui [[>_]](http://www.pythontutor.com/live.html#code=%23%20PyM%C3%A9dioBR%20-%20Aula%201%20-%20parte_1%20-%20C%C3%93DIGO%20PURO%20PARA%20PYTHON-TUTOR-LIVE%0A%23%20Voc%C3%AA%20deve%20estar%20lendo%20esse%20c%C3%B3digo%20no%20site%20http%3A//www.pythontutor.com/live.html%23mode%3Dedit%20para%20conseguir%20ver%20a%20tabela%20%22global%20frame%22%20que%20ilusrtra%20graficamente%20tudo%20q%20iremos%20apredender%20sobre%20vari%C3%A1veis,%20valores%20e%20fun%C3%A7%C3%B5es%0A%23%20Este%20c%C3%B3digo%20deve%20se%20restringir%20a%20menos%20de%2080(%3F%29%20linhas%20aproximadamente,%20devido%20a%20um%20limite%20no%20servi%C3%A7o%20do%20site%0A%0A%23%20Qualquer%20coisa%20escrita%20depois%20de%20um%20%22jogo%20da%20velha%22%20(hashtag%29%20%C3%A9%20chamado%20%22coment%C3%A1rio%22%20-%20n%C3%A3o%20influencia%20na%20execu%C3%A7%C3%A3o%20do%20c%C3%B3digo%0A%0Am%20%3D%205%20%23%20a%20massa%3A%20o%20valor%20(value%29%20%225%22%20%C3%A9%20atribu%C3%ADdo%20%C3%A0%20vari%C3%A1vel%20%22m%22%0AF%20%3D%2050%20%23%20a%20for%C3%A7a%20que%20puxa%20o%20bloco%0Amu%20%3D%200.2%20%23%20o%20coeficiente%20de%20atrito%0Atheta%20%3D%2030%20%23%20o%20%C3%A2ngulo%20(em%20graus%29%0Asen30%20%3D%201/2%20%23%20seno%20de%2030%20gruas%0A%0AFy%20%3D%20F%20*%20sen30%20%23%20o%20valor%20atual%20da%20a%20variavel%20sen30%20%C3%A9%20multiplicado%20(%20*%20%C3%A9%20o%20operador%20da%20multiplica%C3%A7%C3%A3o%29%20pelo%20valor%20atual%20da%20vari%C3%A1vel%20F%20e%20o%20resultado%20%C3%A9%20atribu%C3%ADdo%20%C3%A0%20nova%20vari%C3%A1vel%20Fy%0A%0Ag%20%3D%2010%0A%0AP%20%3D%20m%20*%20g%0A%0AN%20%3D%20P%20-%20Fy%20%23subtra%C3%A7%C3%A3o%0A%0Afat%20%3D%20mu%20*%20N%0A%0Aprint(%22A%20for%C3%A7a%20de%20atrito%20calculada%20foi%20de%20%22,fat,%22N%22%29%20%23%20impress%C3%A3o%20da%20resposta%20completa%20no%20campo%20%22Print%20output%22%20do%20site%0A&cumulative=false&curInstr=11&heapPrimitives=false&mode=display&origin=opt-live.js&py=3&rawInputLstJSON=%5B%5D&textReferences=false)\n",
    "* Texto didático comentado abaixo:"
   ]
  },
  {
   "cell_type": "code",
   "execution_count": 2,
   "metadata": {
    "collapsed": false
   },
   "outputs": [
    {
     "name": "stdout",
     "output_type": "stream",
     "text": [
      "A força de atrito calculada foi de  5.0 N\n"
     ]
    }
   ],
   "source": [
    "# PyMédioBR - Aula 1 - parte_1 - CÓDIGO COMENTADO\n",
    "\n",
    "# Você deve estar lendo esse código comentado no site github\n",
    "# mas ao mesmo tempo acompanhando o código puro\n",
    "# no site http://www.pythontutor.com/live.html#mode=edit\n",
    "# para conseguir ver a tabela \"global frame\" que ilusrtra graficamente tudo q iremos apredender sobre variáveis, valores e funções\n",
    "\n",
    "# Cada parte da aula 1 deve se restringir a um limite de linhas/caracteres de acordo com o serviço do site\n",
    "\n",
    "# === programando em python ===========================================================================================================\n",
    "\n",
    "# --- cometários ------------------------------------------------------------------------------------------------------------------------------------\n",
    "\n",
    "# Qualquer coisa escrita depois de um \"jogo da velha\" (hashtag) é chamado \"comentário\". Comentários servem para explicar o que cada pedaço de seu programa faz, eles não inlfuenciam na execução do código\n",
    "\n",
    "# Contexto dessa aula: Resolver um problema de sobre superficie plana com atrito\n",
    "# Enunciado: # Vamos supor que temos um bloco de massa m = 5 kg sobre uma superfície plana. Suponhamos que o coeficiente de atrito entre o bloco e a superfície plana seja igual a 0,2, determine o valor da força de atrito para uma força que puxa o bloco com intensidade igual a 50 N ( ver desenho no site: http://exercicios.brasilescola.uol.com.br/exercicios-fisica/exercicios-sobre-plano-inclinado-com-atrito.htm )\n",
    "# Solução: \"Primeiramente devemos retirar os dados do problema\"\n",
    "# Segundo o enunciado, \"temos um bloco de massa m = 5 kg\", podemos traduzir esse dado em linguagem de programação da forma apresentada na linha de código a seguir:\n",
    "\n",
    "# --- attribuição (assignment) ------------------------------------------------------------------------------------------------------\n",
    "\n",
    "m = 5 # Leia essa linha da seguinte forma: o valor (value) \"5\" é atribuído à variável \"m\"\n",
    "# # #-> o valor \"5\"\n",
    "# #-> é atribuído (assignment) segundo o operador \"=\"\n",
    "#-> à variável (variable) \"m\" aqui declarada.\n",
    "# Note que na tabela 'global frame' à direita aparece uma linha escrito o nome da variável que declaramos - \"m\" - e ao lado o valor que atribuimos à ela - \"5\"\n",
    "# Da mesma forma retiramos os outros dados do problema:\n",
    "# \"...uma força que puxa o bloco com intensidade igual a 50 N\"\n",
    "F = 50 # a força que puxa o bloco\n",
    "# note uma nova linha na tabela global frame\n",
    "# \"Suponhamos que o coeficiente de atrito entre o bloco e a superfície plana seja igual a 0,2\"\n",
    "# \"μ=0,2\" podemos usar letras gregas aqui nos comentários, mas na hora do código só valem as letras (a-z), minusculas e maiusculas (aA-zZ) - que geram variáveis DIFERENTES -, números (0-9) - menos usá-los como primeiro caractere -, e o símbolo \"sublinhado\" (_)\n",
    "mu = 0.2 # o coeficiente de atrito\n",
    "# note aqui que o separador de casas decimal é o ponto, como é o caso na lingua inglesa\n",
    "# note uma nova linha na tabela global frame\n",
    "# \"veja o angulo de 30 grauis no desenho\"\n",
    "theta = 30 # o ângulo (em graus)\n",
    "# note uma nova linha na tabela global frame\n",
    "# \"Como sabemos que a força faz um ângulo de 30° com a horizontal, devemos decompor a força na direção y (Fy = F.sen30°), pois a força de atrito depende da normal e do coeficiente de atrito, assim temos:\"\n",
    "# Fy = F x sen30\n",
    "# sabemos q a componente Fy depende da força F e do seno do angulo theta\n",
    "# como 30 graus é um angulo notável, devemos saber que seno de 30 graus é 1/2\n",
    "\n",
    "# --- operadores (operators) ---------------------------------------------------------------------------------------------------------------------------------------------\n",
    "\n",
    "sen30 = 1/2 # em 1/2, / é o operador de divisão, \n",
    "# note uma nova linha na tabela global frame\n",
    "# podemos agora finalmente efetuar o cálcula da componente Fy\n",
    "Fy = F * sen30\n",
    "#  # # # #-> o valor atual da a variavel sen30\n",
    "#  # # #-> é multiplicado ( * é o operador da multiplicação)\n",
    "#  # #-> pelo valor atual da variável F\n",
    "#  #-> o resultado é atribuído\n",
    "#-> à nova variável Fy\n",
    "# note uma linha nova na tabela\n",
    "#podemos seguir com o cálculo da força normal pela seguinte fórmula:\n",
    "#N = P - Fy\n",
    "#sabemos que ela depende da força peso, que é calculada pela seguinte fórmula\n",
    "# P = m*g\n",
    "# log precisamos declarar uma variável para a aceleração da gravidade e atribuir a ela uma valor\n",
    "g = 10\n",
    "# note mais uma linha na tabela\n",
    "# podemos então seguir com as equações anteriores agora que terminamos de entender as dependencias\n",
    "P = m * g\n",
    "# note uma nova linha na tabela\n",
    "# seguimos para o cálculo de N\n",
    "N = P - Fy\n",
    "# note uma nova linha na tabela\n",
    "# finalmente é possível calcular a força de atrito\n",
    "# fat = μ x N\n",
    "fat = mu * N\n",
    "# com isso terminamos de resolver o problem, usando o python como se fosse uma calculadora para realizar as multiplicações e guardar os valores de todas as variáveis envolvidas nos cálculos na tablea \"global frame\"\n",
    "# por fim, podemos \"imprimir\" a reposta final, pois a tabela Global frame só é visível no site http://www.pythontutor.com/live.html#mode=edit\n",
    "# enquanto que \"imprimir\" usando o comando \"print\" vai exibir o resultado num local apropriado da tela, qualquer que seja o computador, site, ou programa de desenvolvimento que você esteja usando para programar.\n",
    "\n",
    "# --- impressão (print) ----------------------------------------------------------------------------------------------------------------\n",
    "\n",
    "print(\"A força de atrito calculada foi de \",fat,\"N\")  # impressão da resposta completa no campo \"Print output\" do site\n",
    "#    ##                                     #  #  ##-> tudo que está entre parenteses será \"impresso\" na tela\n",
    "#    ##                                     #  #  #-> tudo que está entre aspas será impresso como texto\n",
    "#    ##                                     #  #-> as vírgulas separam cada coisa de tipo diferente que será impressa\n",
    "#    ##                                     #-> aqui fazer a impressão da variável fat significa imprimir o valor atual que ela possuir\n",
    "#-> o comando print\n",
    "\n",
    "# === e agora? ===================================================================================================================\n",
    "\n",
    "#e se quisermos resolver com uma força F diferente?\n",
    "# e se quisermos resolver com um angulo diferente?\n",
    "#vejam a parte 2 do curso!\n"
   ]
  }
 ],
 "metadata": {
  "anaconda-cloud": {},
  "kernelspec": {
   "display_name": "Python [conda root]",
   "language": "python",
   "name": "conda-root-py"
  },
  "language_info": {
   "codemirror_mode": {
    "name": "ipython",
    "version": 3
   },
   "file_extension": ".py",
   "mimetype": "text/x-python",
   "name": "python",
   "nbconvert_exporter": "python",
   "pygments_lexer": "ipython3",
   "version": "3.5.2"
  }
 },
 "nbformat": 4,
 "nbformat_minor": 1
}
