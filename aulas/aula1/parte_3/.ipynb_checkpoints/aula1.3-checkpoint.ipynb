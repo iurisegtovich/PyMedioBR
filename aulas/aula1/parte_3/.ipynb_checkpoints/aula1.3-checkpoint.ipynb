{
 "cells": [
  {
   "cell_type": "markdown",
   "metadata": {},
   "source": [
    "* Acesso interativo aqui [[>_]](http://www.pythontutor.com/live.html#code=%23PARTE3%0A%0Adef%20fat%28mu,N%29%3A%0A%20%20%20%20return%20mu*N%0Adef%20N%28P,Fy%29%3A%0A%20%20%20%20return%20P-Fy%0Adef%20P%28m,g%29%3A%0A%20%20%20%20return%20m*g%0Adef%20Fy%28F,theta_graus%29%3A%0A%20%20%20%20import%20math%0A%20%20%20%20theta_rad%20%3D%20theta_graus%20*%20%28%202*math.pi%20/%20360%20%29%0A%20%20%20%20return%20F*math.sin%28theta_rad%29%20%20%20%20%20%0A%0Adef%20RESOLVE%28F,theta_graus,m,g,mu%29%3A%0A%20%20%20%20Fy_re%20%3D%20Fy%28F,theta_graus%29%20%23vamos%20identificar%20nossa%20respostas%20intermedi%C3%A1rias%20com%20_re%20para%20poder%20dar%20uma%20resposta%20completa%20%28as%20respostas%20intermedi%C3%A1riuas%20sempre%20valem%20pontinhos%20na%20prova,%20n%C3%A3o%20%C3%A9%20mesmo%20%3F%29%0A%20%20%20%20P_re%20%3D%20P%28m,g%29%0A%20%20%20%20N_re%20%3D%20N%28P_re,Fy_re%29%0A%20%20%20%20fat_re%20%3D%20fat%28mu,N_re%29%0A%20%20%20%20return%20fat_re,%20N_re,%20P_re,%20Fy_re%20%23a%20respota%20dessa%20fun%C3%A7%C3%A3o%20vai%20se%20rum%20%22lista%22%20com%20todas%20as%20respostas%20intermedi%C3%A1rias%0A%0ARESPOSTA%3DRESOLVE%28F%3D50,theta_graus%3D30,m%3D5,g%3D10,mu%3D0.2%29%0A&cumulative=false&curInstr=27&heapPrimitives=false&mode=display&origin=opt-live.js&py=3&rawInputLstJSON=%5B%5D&textReferences=false)\n",
    "* Texto didático comentado abaixo:"
   ]
  },
  {
   "cell_type": "code",
   "execution_count": 1,
   "metadata": {
    "collapsed": false
   },
   "outputs": [
    {
     "name": "stdout",
     "output_type": "stream",
     "text": [
      "A reposta final é: fat =  5.000000000000001 Com os seguintes resultados intermediários: N= 25.000000000000004 P= 50 Fy= 24.999999999999996\n",
      "A reposta final é: fat =  1.4210854715202005e-15 Com os seguintes resultados intermediários: N= 7.105427357601002e-15 P= 50 Fy= 49.99999999999999\n",
      "A reposta final é: fat =  -4.142135623730948 Com os seguintes resultados intermediários: N= -20.71067811865474 P= 50 Fy= 70.71067811865474\n",
      "A reposta final é: fat =  15.857864376269053 Com os seguintes resultados intermediários: N= 79.28932188134526 P= 150 Fy= 70.71067811865474\n"
     ]
    }
   ],
   "source": [
    "#PARTE3\n",
    "\n",
    "#repetindo aqui as funções porque vamos usar elas mas as aulas não podem ficar grandes demais senão não roda no site : (\n",
    "def fat(mu,N):\n",
    "    return mu*N\n",
    "def N(P,Fy):\n",
    "    return P-Fy\n",
    "def P(m,g):\n",
    "    return m*g\n",
    "def Fy(F,theta_graus):\n",
    "    import math\n",
    "    theta_rad = theta_graus * ( 2*math.pi / 360 )\n",
    "    return F*math.sin(theta_rad)     \n",
    "\n",
    "#Agora Vamos fazer uma função única para resolver o problema de uma vez?\n",
    "#vamos lembrar de todas as dependencias e colocar ela na lista de argumentos da função\n",
    "def RESOLVE(F,theta_graus,m,g,mu):\n",
    "    Fy_re = Fy(F,theta_graus) #vamos identificar nossa respostas intermediárias com _re para poder dar uma resposta completa (as respostas intermediáriuas sempre valem pontinhos na prova, não é mesmo ?)\n",
    "    P_re = P(m,g)\n",
    "    N_re = N(P_re,Fy_re)\n",
    "    fat_re = fat(mu,N_re)\n",
    "    return fat_re, N_re, P_re, Fy_re #a respota dessa função vai se rum \"lista\" com todas as respostas intermediárias\n",
    "#testar\n",
    "RESPOSTA=RESOLVE(F=50,theta_graus=30,m=5,g=10,mu=0.2)\n",
    "#notem que a variável RESPOSTA tem uma setinha para uma lista amarela com vários valores\n",
    "# esses são os valores das respostas intermediárias na ordem em que colocamos elas no \"return\"\n",
    "#para imprimir cada um deles temos que usar colchetes e o indice que representa a ordem dele na lista, começcando do zero\n",
    "\n",
    "print(\"A reposta final é: fat = \",RESPOSTA[0],\"Com os seguintes resultados intermediários: N=\",RESPOSTA[1],\"P=\",RESPOSTA[2],\"Fy=\",RESPOSTA[3])\n",
    "\n",
    "#VAMOS MUDAR UM POUQINHO?\n",
    "\n",
    "# É SÓ COPIAR A LINHA resposta=resolve... e mudar alguns valores\n",
    "# e depois copiar a linha print(\"A resposta ...\" Nessa não precisa mudar nada\n",
    "\n",
    "#aí vai:\n",
    "RESPOSTA=RESOLVE(F=100,theta_graus=30,m=5,g=10,mu=0.2)\n",
    "\n",
    "#note aqui que os valores na lista mudam, a resposta é \"sobre-escrita\" \"na memória\" quando atribuuimos novos valores à ela, perdendo os valores antigos\n",
    "#enquanto q na \"tela de impressão\" os valores que forem impressos não mudam mais\n",
    "\n",
    "print(\"A reposta final é: fat = \",RESPOSTA[0],\"Com os seguintes resultados intermediários: N=\",RESPOSTA[1],\"P=\",RESPOSTA[2],\"Fy=\",RESPOSTA[3])\n",
    "\n",
    "#note que aqui fat deu 1.4e-15, quer dizer 1,4 x 10^(-15)\n",
    "#isso significa zero (experimente arredondar para 9 casas decimais: 0.000000000000014 vire 0.000000000), com erro de arredondamento dos cálculos no computador\n",
    "\n",
    "# Pergunta1: O que houve?\n",
    "RESPOSTA=RESOLVE(F=100,theta_graus=45,m=5,g=10,mu=0.2)\n",
    "print(\"A reposta final é: fat = \",RESPOSTA[0],\"Com os seguintes resultados intermediários: N=\",RESPOSTA[1],\"P=\",RESPOSTA[2],\"Fy=\",RESPOSTA[3])\n",
    "\n",
    "#note que aqui fat deu negativo\n",
    "\n",
    "# Pergunta 2: o que houve?\n",
    "\n",
    "\n",
    "RESPOSTA=RESOLVE(F=100,theta_graus=45,m=15,g=10,mu=0.2)\n",
    "print(\"A reposta final é: fat = \",RESPOSTA[0],\"Com os seguintes resultados intermediários: N=\",RESPOSTA[1],\"P=\",RESPOSTA[2],\"Fy=\",RESPOSTA[3])\n",
    "\n",
    "# aqui já temos uma resposta coerente de novo\n",
    "\n",
    "# pergunta 3, por que?\n",
    "\n",
    "\n",
    "#\n",
    "#\n",
    "#\n",
    "#\n",
    "#\n",
    "#\n",
    "#\n",
    "#\n",
    "#\n",
    "#\n",
    "#\n",
    "#\n",
    "#\n",
    "\n",
    "\n",
    "# Resposta 1 : a componente Fy ficou igual ao peso, o objeto está em equilíbrio sem exercer pressão sobre o plano do plano, e não apenas arrastado\n",
    "\n",
    "# Resposta 2 : a componente Fy está maior que o peso, o objeto está sendo levantado, não há mais contato então não há mais força normal\n",
    "#Vamos ensinar o código a entende isso na aula 4 para que ele não escreve uma força normal negativa e perca pontos na prova.\n",
    "\n",
    "# resposta 3, aumentando a massa do objeto, ele não está mais sendo levantado"
   ]
  }
 ],
 "metadata": {
  "anaconda-cloud": {},
  "kernelspec": {
   "display_name": "Python [conda root]",
   "language": "python",
   "name": "conda-root-py"
  },
  "language_info": {
   "codemirror_mode": {
    "name": "ipython",
    "version": 3
   },
   "file_extension": ".py",
   "mimetype": "text/x-python",
   "name": "python",
   "nbconvert_exporter": "python",
   "pygments_lexer": "ipython3",
   "version": "3.5.2"
  }
 },
 "nbformat": 4,
 "nbformat_minor": 1
}
