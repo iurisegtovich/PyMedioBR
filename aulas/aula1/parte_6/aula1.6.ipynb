{
 "cells": [
  {
   "cell_type": "markdown",
   "metadata": {},
   "source": [
    "* Acesso interativo aqui [[>_]](http://www.pythontutor.com/live.html#code=%23aula%206%0A%0Adef%20custoA%28p%29%3A%0A%20%20%20%20return%2050%20%2B%201*p%20%2350%20reais%20de%20entrada%20mais%20um%20rela%20para%20cada%20metro%20de%20perimetro%20contrastado%0A%0Adef%20custoB%28p%29%3A%0A%20%20%20%20return%201.25*p%20%2350%20reais%20de%20entrada%20mais%20um%20rela%20para%20cada%20metro%20de%20perimetro%20contrastado%20%20%20%20%0A%0Adef%20COMPARA%28f,g,x%29%3A%0A%20%20%20%20if%20%28f%28x%29%20%3D%3D%20g%28x%29%29%3A%0A%20%20%20%20%20%20%20%20print%28%20%22TANTO%20FAZ%22,%20%22f%20e%20g%20tem%20o%20mesmo%20valor,%20igual%20a%22,%20f%28x%29,%20%22%20em%20x%20igual%20a%20%22,%20x%20%29%0A%20%20%20%20%20%20%20%20return%20%22TANTO%20FAZ%22%0A%20%20%20%20elif%20%28f%28x%29%20%3E%20g%28x%29%29%3A%20%23elif%20%C3%A9%20abrivia%C3%A7%C3%A3o%20para%20%22else%20if%22%20quer%20duizer,%20sen%C3%A3o%20atender%20o%20crit%C3%A9rio%20acima,%20veja%20se%20atende%20ao%20crit%C3%A9rio%20aqui%20%C3%A0%20esquerda%0A%20%20%20%20%20%20%20%20print%28%20%22CONTRATE%20B%22,%20%22em%20x%20igual%20a%20%22,%20x,%20%22f%20tem%20valor%22,%20f%28x%29,%20%22e%20g%22,%20g%28x%29,%20%22logo%20f%20maior%20que%20g%20nesse%20ponto%20x%22%20%29%0A%20%20%20%20%20%20%20%20return%20%22CONTRATE%20B%22%0A%20%20%20%20else%3A%20%23e%20por%20fim%20o%20else,%20como%20antes%20%22se%20n%C3%A3o%22%20atender%20nenhum%20dos%20crit%C3%A9rios%20acima%0A%20%20%20%20%20%20%20%20print%28%20%22CONTRATE%20A%22,%22%20em%20x%20igual%20a%20%22,%20x,%20%22f%20tem%20valor%22,%20f%28x%29,%20%22e%20g%22,%20g%28x%29,%20%22logo%20f%20menor%20que%20g%20nesse%20ponto%20x%22%20%20%20%20%29%0A%20%20%20%20%20%20%20%20return%20%22CONTRATE%20A%22%20%20%20%20%0A%0ARESPOSTA%3DCOMPARA%28f%3DcustoA,%20g%3DcustoB,%20x%3D10%29%0A%0ARESPOSTA%3DCOMPARA%28f%3DcustoA,%20g%3DcustoB,%20x%3D1%29%0A%0ARESPOSTA%3DCOMPARA%28f%3DcustoA,%20g%3DcustoB,%20x%3D50%29%0A%0ARESPOSTA%3DCOMPARA%28f%3DcustoA,%20g%3DcustoB,%20x%3D100%29%0A%0ARESPOSTA%3DCOMPARA%28f%3DcustoA,%20g%3DcustoB,%20x%3D1000%29%0A%0ARESPOSTA%3DCOMPARA%28f%3DcustoA,%20g%3DcustoB,%20x%3D10000%29&cumulative=false&curInstr=153&heapPrimitives=false&mode=display&origin=opt-live.js&py=3&rawInputLstJSON=%5B%5D&textReferences=false)\n",
    "* Texto didático comentado abaixo:"
   ]
  },
  {
   "cell_type": "code",
   "execution_count": 1,
   "metadata": {
    "collapsed": false
   },
   "outputs": [
    {
     "name": "stdout",
     "output_type": "stream",
     "text": [
      "CONTRATE B em x igual a  10 f tem valor 60 e g 12.5 logo f maior que g nesse ponto x\n",
      "CONTRATE B em x igual a  1 f tem valor 51 e g 1.25 logo f maior que g nesse ponto x\n",
      "CONTRATE B em x igual a  50 f tem valor 100 e g 62.5 logo f maior que g nesse ponto x\n",
      "CONTRATE B em x igual a  100 f tem valor 150 e g 125.0 logo f maior que g nesse ponto x\n",
      "CONTRATE A  em x igual a  1000 f tem valor 1050 e g 1250.0 logo f menor que g nesse ponto x\n",
      "CONTRATE A  em x igual a  10000 f tem valor 10050 e g 12500.0 logo f menor que g nesse ponto x\n"
     ]
    }
   ],
   "source": [
    "#aula 6\n",
    "\n",
    "# tem uma coisa chamada \"call back\" significa, ao pé da letra, \"me liga\"\n",
    "\n",
    "# como contexto suponha que queiramos comparar por exemplo os preços de alguns projetos com custo fixo e variável\n",
    "\n",
    "#queremos pintar uma cerca\n",
    "\n",
    "#para contratar a empresa A, ela cobra 50 reais de entrada e mais 1 real por metro de cerca\n",
    "#então 9o custo que teremos com a empresa A é função do perimetro de cerca que queremos da seguinte forma\n",
    "\n",
    "def custoA(p):\n",
    "    return 50 + 1*p #50 reais de entrada mais um rela para cada metro de perimetro contrastado\n",
    "    \n",
    "#suponha agora uma empresa B que não cobra entrada nenhuma, mas que cobra 1.25 por cada metro de perimetro    \n",
    "\n",
    "def custoB(p):\n",
    "    return 1.25*p #50 reais de entrada mais um rela para cada metro de perimetro contrastado    \n",
    "    \n",
    "    \n",
    "#qual é a empresa que vai me prestar o serviço mais barato????\n",
    "#issoisso vai depender do tamanho do serviço!\n",
    "    \n",
    "# vamos escrever uma função que faça essa comparação por nós\n",
    "\n",
    "# por exemplo a sdeguinte função:\n",
    "\n",
    "def COMPARA(f,g,x):\n",
    "            # esse f e esse g são as funções call back, pois veja mais abaixo como a função COMPARA vai \"ligar\" para as funções f e g usando o valor x em questão como argumento REAL para o argumento DE SUBSTITUIÃO\n",
    "    if (f(x) == g(x)):\n",
    "        #pega aqui a função f fornecida\n",
    "        #o valor x fornecido\n",
    "        #e calcula o valor que f assume para esse x em questão\n",
    "        print( \"TANTO FAZ\", \"f e g tem o mesmo valor, igual a\", f(x), \" em x igual a \", x )\n",
    "        return \"TANTO FAZ\"\n",
    "    elif (f(x) > g(x)): #elif é abriviação para \"else if\" quer duizer, senão atender o critério acima, veja se atende ao critério aqui à esquerda\n",
    "        print( \"CONTRATE B\", \"em x igual a \", x, \"f tem valor\", f(x), \"e g\", g(x), \"logo f maior que g nesse ponto x\" )\n",
    "        return \"CONTRATE B\"\n",
    "    else: #e por fim o else, como antes \"se não\" atender nenhum dos critérios acima\n",
    "        print( \"CONTRATE A\",\" em x igual a \", x, \"f tem valor\", f(x), \"e g\", g(x), \"logo f menor que g nesse ponto x\"    )\n",
    "        return \"CONTRATE A\"    \n",
    "        \n",
    "#essa função espera como argumento numeros 1 e 2 duas FUNÇÕES de uma variável \"x\"\n",
    "# e como terceiro um valor de variavel x\n",
    "\n",
    "#suponha que queiramos 10 metros de cerca:\n",
    "\n",
    "RESPOSTA=COMPARA(f=custoA, g=custoB, x=10)\n",
    "#assim nós chamamos um função que não fornce um valor de reposta\n",
    "\n",
    "#VAMOS TESTAR COM OUTRAS METRAGENS\n",
    "\n",
    "RESPOSTA=COMPARA(f=custoA, g=custoB, x=1)\n",
    "\n",
    "RESPOSTA=COMPARA(f=custoA, g=custoB, x=50)\n",
    "\n",
    "RESPOSTA=COMPARA(f=custoA, g=custoB, x=100)\n",
    "\n",
    "RESPOSTA=COMPARA(f=custoA, g=custoB, x=1000)\n",
    "\n",
    "RESPOSTA=COMPARA(f=custoA, g=custoB, x=10000)\n",
    "\n",
    "#OLHANDO OS RESULTADOS É POSSÍVEL concluir que a empresa A é a especializada em serviços grandes, ela fica mais em conta para os trabalhos de 1000 e 10000 metros\n",
    "#enquyanto q a empresa B é a mais em contan para os serviços pequenso de 1,10, 50 e 100 metros\n",
    "\n"
   ]
  }
 ],
 "metadata": {
  "anaconda-cloud": {},
  "kernelspec": {
   "display_name": "Python [conda root]",
   "language": "python",
   "name": "conda-root-py"
  },
  "language_info": {
   "codemirror_mode": {
    "name": "ipython",
    "version": 3
   },
   "file_extension": ".py",
   "mimetype": "text/x-python",
   "name": "python",
   "nbconvert_exporter": "python",
   "pygments_lexer": "ipython3",
   "version": "3.5.2"
  }
 },
 "nbformat": 4,
 "nbformat_minor": 1
}
