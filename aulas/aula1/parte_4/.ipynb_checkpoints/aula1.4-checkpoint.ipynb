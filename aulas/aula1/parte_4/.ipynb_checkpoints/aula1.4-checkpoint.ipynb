{
 "cells": [
  {
   "cell_type": "markdown",
   "metadata": {},
   "source": [
    "* Acesso interativo aqui [[>_]](http://www.pythontutor.com/live.html#code=%23PARTE4%0A%0Adef%20fat%28mu,N%29%3A%0A%20%20%20%20return%20mu*N%0Adef%20N%28P,Fy%29%3A%0A%20%20%20%20return%20P-Fy%0Adef%20P%28m,g%29%3A%0A%20%20%20%20return%20m*g%0Adef%20Fy%28F,theta_graus%29%3A%0A%20%20%20%20import%20math%0A%20%20%20%20theta_rad%20%3D%20theta_graus%20*%20%28%202*math.pi%20/%20360%20%29%0A%20%20%20%20return%20F*math.sin%28theta_rad%29%20%20%20%20%20%0A%0Adef%20RESOLVE%28F,theta_graus,m,g,mu%29%3A%0A%20%20%20%20Fy_re%20%3D%20Fy%28F,theta_graus%29%0A%20%20%20%20P_re%20%3D%20P%28m,g%29%0A%20%20%20%20N_re%20%3D%20N%28P_re,Fy_re%29%0A%0A%20%20%20%20if%20%28N_re%20%3E%200%29%3A%0A%20%20%20%20%20%20%20%20fat_re%20%3D%20fat%28mu,N_re%29%0A%20%20%20%20else%3A%0A%20%20%20%20%20%20%20%20N_re%3D0%0A%20%20%20%20%20%20%20%20fat_re%20%3D%200%0A%20%20%20%20return%20fat_re,%20N_re,%20P_re,%20Fy_re%0A%0ARESPOSTA%3DRESOLVE%28F%3D50,theta_graus%3D30,m%3D5,g%3D10,mu%3D0.2%29%0Aprint%28%22A%20reposta%20final%20%C3%A9%3A%20fat%20%3D%20%22,RESPOSTA%5B0%5D,%22Com%20os%20seguintes%20resultados%20intermedi%C3%A1rios%3A%20N%3D%22,RESPOSTA%5B1%5D,%22P%3D%22,RESPOSTA%5B2%5D,%22Fy%3D%22,RESPOSTA%5B3%5D%29%0A%0A%0ARESPOSTA%3DRESOLVE%28F%3D100,theta_graus%3D30,m%3D5,g%3D10,mu%3D0.2%29%0Aprint%28%22A%20reposta%20final%20%C3%A9%3A%20fat%20%3D%20%22,RESPOSTA%5B0%5D,%22Com%20os%20seguintes%20resultados%20intermedi%C3%A1rios%3A%20N%3D%22,RESPOSTA%5B1%5D,%22P%3D%22,RESPOSTA%5B2%5D,%22Fy%3D%22,RESPOSTA%5B3%5D%29%0A%0ARESPOSTA%3DRESOLVE%28F%3D100,theta_graus%3D45,m%3D5,g%3D10,mu%3D0.2%29%0Aprint%28%22A%20reposta%20final%20%C3%A9%3A%20fat%20%3D%20%22,RESPOSTA%5B0%5D,%22Com%20os%20seguintes%20resultados%20intermedi%C3%A1rios%3A%20N%3D%22,RESPOSTA%5B1%5D,%22P%3D%22,RESPOSTA%5B2%5D,%22Fy%3D%22,RESPOSTA%5B3%5D%29%0A%0ARESPOSTA%3DRESOLVE%28F%3D150,theta_graus%3D45,m%3D5,g%3D10,mu%3D0.2%29%0Aprint%28%22A%20reposta%20final%20%C3%A9%3A%20fat%20%3D%20%22,RESPOSTA%5B0%5D,%22Com%20os%20seguintes%20resultados%20intermedi%C3%A1rios%3A%20N%3D%22,RESPOSTA%5B1%5D,%22P%3D%22,RESPOSTA%5B2%5D,%22Fy%3D%22,RESPOSTA%5B3%5D%29%0A%0A%23%20OS%20BLOCOS%20IF%20est%C3%A3o%20filtrando%20os%20resultados%20que%20fazem%20o%20bloco%20ser%20levantado%20e%20fixando%20que%20nesses%20caso%20a%20normal%20e%20a%20fat%20recebem%20valor%20zero%20pois%20deixam%20de%20existir%0A%0A%23%20os%20blocos%20IF%20e%20os%20blocos%20FOR%20s%C3%A3o%20o%20coral%C3%A7%C3%A3o%20da%20programa%C3%A7%C3%A3o,%20veja%20na%20aula%205%20o%20que%20os%20FOR%20podem%20fazer%0A&cumulative=false&curInstr=97&heapPrimitives=false&mode=display&origin=opt-live.js&py=3&rawInputLstJSON=%5B%5D&textReferences=false)\n",
    "* Texto didático comentado abaixo:"
   ]
  },
  {
   "cell_type": "code",
   "execution_count": 1,
   "metadata": {
    "collapsed": false
   },
   "outputs": [
    {
     "name": "stdout",
     "output_type": "stream",
     "text": [
      "A reposta final é: fat =  5.000000000000001 Com os seguintes resultados intermediários: N= 25.000000000000004 P= 50 Fy= 24.999999999999996\n",
      "A reposta final é: fat =  1.4210854715202005e-15 Com os seguintes resultados intermediários: N= 7.105427357601002e-15 P= 50 Fy= 49.99999999999999\n",
      "A reposta final é: fat =  0 Com os seguintes resultados intermediários: N= 0 P= 50 Fy= 70.71067811865474\n",
      "A reposta final é: fat =  0 Com os seguintes resultados intermediários: N= 0 P= 50 Fy= 106.06601717798212\n"
     ]
    }
   ],
   "source": [
    "#PARTE4\n",
    "\n",
    "#repetindo aqui as funções porque vamos usar elas mas as aulas não podem ficar grandes demais senão não roda no site : (\n",
    "def fat(mu,N):\n",
    "    return mu*N\n",
    "def N(P,Fy):\n",
    "    return P-Fy\n",
    "def P(m,g):\n",
    "    return m*g\n",
    "def Fy(F,theta_graus):\n",
    "    import math\n",
    "    theta_rad = theta_graus * ( 2*math.pi / 360 )\n",
    "    return F*math.sin(theta_rad)     \n",
    "\n",
    "def RESOLVE(F,theta_graus,m,g,mu):\n",
    "    Fy_re = Fy(F,theta_graus)\n",
    "    P_re = P(m,g)\n",
    "    N_re = N(P_re,Fy_re)\n",
    "    # vamos mudar aqui!\n",
    "    if (N_re > 0):\n",
    "    #entenda esse bloco da seguinte forma:\n",
    "    # \"Se (if em inglês) o valor da variável N_re for maior que zero, então:\"\n",
    "        #\"siga as instruções abaixo 'identadas'\"\n",
    "        fat_re = fat(mu,N_re)\n",
    "    else:\n",
    "    #\"caso contrário\"\n",
    "        #\"siga essas outras instruções\"\n",
    "        N_re=0\n",
    "        fat_re = 0\n",
    "    return fat_re, N_re, P_re, Fy_re\n",
    "\n",
    "#testar\n",
    "RESPOSTA=RESOLVE(F=50,theta_graus=30,m=5,g=10,mu=0.2)\n",
    "print(\"A reposta final é: fat = \",RESPOSTA[0],\"Com os seguintes resultados intermediários: N=\",RESPOSTA[1],\"P=\",RESPOSTA[2],\"Fy=\",RESPOSTA[3])\n",
    "\n",
    "\n",
    "RESPOSTA=RESOLVE(F=100,theta_graus=30,m=5,g=10,mu=0.2)\n",
    "print(\"A reposta final é: fat = \",RESPOSTA[0],\"Com os seguintes resultados intermediários: N=\",RESPOSTA[1],\"P=\",RESPOSTA[2],\"Fy=\",RESPOSTA[3])\n",
    "\n",
    "RESPOSTA=RESOLVE(F=100,theta_graus=45,m=5,g=10,mu=0.2)\n",
    "print(\"A reposta final é: fat = \",RESPOSTA[0],\"Com os seguintes resultados intermediários: N=\",RESPOSTA[1],\"P=\",RESPOSTA[2],\"Fy=\",RESPOSTA[3])\n",
    "\n",
    "RESPOSTA=RESOLVE(F=150,theta_graus=45,m=5,g=10,mu=0.2)\n",
    "print(\"A reposta final é: fat = \",RESPOSTA[0],\"Com os seguintes resultados intermediários: N=\",RESPOSTA[1],\"P=\",RESPOSTA[2],\"Fy=\",RESPOSTA[3])\n",
    "\n",
    "# OS BLOCOS IF estão filtrando os resultados que fazem o bloco ser levantado e fixando que nesses caso a normal e a fat recebem valor zero pois deixam de existir\n",
    "\n",
    "# os blocos IF e os blocos FOR são o coralção da programação, veja na aula 5 o que os FOR podem fazer\n"
   ]
  }
 ],
 "metadata": {
  "anaconda-cloud": {},
  "kernelspec": {
   "display_name": "Python [conda root]",
   "language": "python",
   "name": "conda-root-py"
  },
  "language_info": {
   "codemirror_mode": {
    "name": "ipython",
    "version": 3
   },
   "file_extension": ".py",
   "mimetype": "text/x-python",
   "name": "python",
   "nbconvert_exporter": "python",
   "pygments_lexer": "ipython3",
   "version": "3.5.2"
  }
 },
 "nbformat": 4,
 "nbformat_minor": 1
}
