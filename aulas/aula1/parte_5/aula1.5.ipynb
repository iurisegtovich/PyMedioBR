{
 "cells": [
  {
   "cell_type": "markdown",
   "metadata": {},
   "source": [
    "* Acesso interativo aqui [[>_]](http://www.pythontutor.com/live.html#code=%23PARTE5%0A%0Adef%20fat%28mu,N%29%3A%0A%20%20%20%20return%20mu*N%0Adef%20N%28P,Fy%29%3A%0A%20%20%20%20return%20P-Fy%0Adef%20P%28m,g%29%3A%0A%20%20%20%20return%20m*g%0Adef%20Fy%28F,theta_graus%29%3A%0A%20%20%20%20import%20math%0A%20%20%20%20theta_rad%20%3D%20theta_graus%20*%20%28%202*math.pi%20/%20360%20%29%0A%20%20%20%20return%20F*math.sin%28theta_rad%29%20%20%20%20%20%0A%0Adef%20RESOLVE%28F,theta_graus,m,g,mu%29%3A%0A%20%20%20%20Fy_re%20%3D%20Fy%28F,theta_graus%29%0A%20%20%20%20P_re%20%3D%20P%28m,g%29%0A%20%20%20%20N_re%20%3D%20N%28P_re,Fy_re%29%0A%0A%20%20%20%20if%20%28N_re%20%3E%201e-9%20%29%3A%20%23vamos%20trocar%20aquele%20zero%20aqui%20por%20uma%20valor%20de%20tolerancia%3A%20qualquer%20coisa%20menor%20que%201e-9%20vai%20ser%20zero%20para%20a%20gente%20%0A%20%20%20%20%20%20%20%20fat_re%20%3D%20fat%28mu,N_re%29%0A%20%20%20%20else%3A%0A%20%20%20%20%0A%20%20%20%20%20%20%20%20N_re%3D0%0A%20%20%20%20%20%20%20%20fat_re%20%3D%200%0A%20%20%20%20return%20fat_re,%20N_re,%20P_re,%20Fy_re%0A%0A%0A%23%20o%20FOR%20permite%20fazer%20uma%20coisa%20%22an%C3%A1loga%22%20v%C3%A1rias%20vezes%20variando%20um%20detalhe%20ou%20outro%0A%0Afor%20theta_tentativa%20in%20%5B0,5,10,15,20,25,30,35,40,45,50,55,60,65,70,75,80,85,90%5D%3A%0A%20%20%20%20RESPOSTA%3DRESOLVE%28F%3D100,theta_graus%3Dtheta_tentativa,m%3D5,g%3D10,mu%3D0.2%29%0A%20%20%20%20print%28%22para%20o%20angulo%22,theta_tentativa,%22a%20Normal%20d%C3%A1%22,RESPOSTA%5B1%5D%29%0A%20%20%20%20%0Afor%20theta_tentativa%20in%20%5B25,25.5,26,26.5,27,27.5,28,28.5,29,29.5,30%5D%3A%0A%20%20%20%20RESPOSTA%3DRESOLVE%28F%3D100,theta_graus%3Dtheta_tentativa,m%3D5,g%3D10,mu%3D0.2%29%0A%20%20%20%20print%28%22para%20o%20angulo%22,theta_tentativa,%22a%20Normal%20d%C3%A1%22,RESPOSTA%5B1%5D%29&cumulative=false&curInstr=729&heapPrimitives=false&mode=display&origin=opt-live.js&py=3&rawInputLstJSON=%5B%5D&textReferences=false)\n",
    "* Texto didático comentado abaixo:"
   ]
  },
  {
   "cell_type": "code",
   "execution_count": 2,
   "metadata": {
    "collapsed": false
   },
   "outputs": [
    {
     "name": "stdout",
     "output_type": "stream",
     "text": [
      "para o angulo 0 a Normal dá 50.0\n",
      "para o angulo 5 a Normal dá 41.284425725234186\n",
      "para o angulo 10 a Normal dá 32.63518223330696\n",
      "para o angulo 15 a Normal dá 24.118095489747926\n",
      "para o angulo 20 a Normal dá 15.797985667433132\n",
      "para o angulo 25 a Normal dá 7.738173825930055\n",
      "para o angulo 30 a Normal dá 0\n",
      "para o angulo 35 a Normal dá 0\n",
      "para o angulo 40 a Normal dá 0\n",
      "para o angulo 45 a Normal dá 0\n",
      "para o angulo 50 a Normal dá 0\n",
      "para o angulo 55 a Normal dá 0\n",
      "para o angulo 60 a Normal dá 0\n",
      "para o angulo 65 a Normal dá 0\n",
      "para o angulo 70 a Normal dá 0\n",
      "para o angulo 75 a Normal dá 0\n",
      "para o angulo 80 a Normal dá 0\n",
      "para o angulo 85 a Normal dá 0\n",
      "para o angulo 90 a Normal dá 0\n",
      "para o angulo 25 a Normal dá 7.738173825930055\n",
      "para o angulo 25.5 a Normal dá 6.948890319170488\n",
      "para o angulo 26 a Normal dá 6.162885321092261\n",
      "para o angulo 26.5 a Normal dá 5.380218689019124\n",
      "para o angulo 27 a Normal dá 4.600950026045325\n",
      "para o angulo 27.5 a Normal dá 3.825138676496607\n",
      "para o angulo 28 a Normal dá 3.052843721410916\n",
      "para o angulo 28.5 a Normal dá 2.2841239740391615\n",
      "para o angulo 29 a Normal dá 1.5190379753662953\n",
      "para o angulo 29.5 a Normal dá 0.7576439896532818\n",
      "para o angulo 30 a Normal dá 0\n"
     ]
    }
   ],
   "source": [
    "#PARTE5\n",
    "\n",
    "#repetindo aqui as funções porque vamos usar elas mas as aulas não podem ficar grandes demais senão não roda no site : (\n",
    "def fat(mu,N):\n",
    "    return mu*N\n",
    "def N(P,Fy):\n",
    "    return P-Fy\n",
    "def P(m,g):\n",
    "    return m*g\n",
    "def Fy(F,theta_graus):\n",
    "    import math\n",
    "    theta_rad = theta_graus * ( 2*math.pi / 360 )\n",
    "    return F*math.sin(theta_rad)     \n",
    "\n",
    "def RESOLVE(F,theta_graus,m,g,mu):\n",
    "    Fy_re = Fy(F,theta_graus)\n",
    "    P_re = P(m,g)\n",
    "    N_re = N(P_re,Fy_re)\n",
    "    # vamos mudar aqui!\n",
    "    if (N_re > 1e-9 ): #vamos trocar aquele zero aqui por uma valor de tolerancia: qualquer coisa menor que 1e-9 vai ser zero para a gente \n",
    "    #entenda esse bloco da seguinte forma:\n",
    "    # \"Se (if em inglês) o valor da variável N_re for maior que zero, então:\"\n",
    "        #\"siga as instruções abaixo 'identadas'\"\n",
    "        fat_re = fat(mu,N_re)\n",
    "    else:\n",
    "    #\"caso contrário\"\n",
    "        #\"siga essas outras instruções\"\n",
    "        N_re=0\n",
    "        fat_re = 0\n",
    "    return fat_re, N_re, P_re, Fy_re\n",
    "\n",
    "\n",
    "# o FOR permite fazer uma coisa \"análoga\" várias vezes variando um detalhe ou outro\n",
    "# vamos usar o for para descobrir na \n",
    "#\"força bruta qual o angulo que faz o bloco ser levantar para as mesmas massa, força F do problema e gravidade da Terra\n",
    "\n",
    "for theta_tentativa in [0,5,10,15,20,25,30,35,40,45,50,55,60,65,70,75,80,85,90]:\n",
    "    RESPOSTA=RESOLVE(F=100,theta_graus=theta_tentativa,m=5,g=10,mu=0.2)\n",
    "    print(\"para o angulo\",theta_tentativa,\"a Normal dá\",RESPOSTA[1])\n",
    "    \n",
    "#Note na tela de impressão ao lado a partir de 30 a Normal da zero, então a partir de 30 o bloco já está sendo levantado\n",
    "\n",
    "#Note também que apensa por essa tabela não temos certeza absoluta de que é 30 ou é alguma coisa entre 25 e 30, então poderiamos refazer esse calculo com uma \"malha mais fina\"\n",
    "\n",
    "for theta_tentativa in [25,25.5,26,26.5,27,27.5,28,28.5,29,29.5,30]:\n",
    "    RESPOSTA=RESOLVE(F=100,theta_graus=theta_tentativa,m=5,g=10,mu=0.2)\n",
    "    print(\"para o angulo\",theta_tentativa,\"a Normal dá\",RESPOSTA[1])\n",
    "    \n",
    "    # e assim dá para ver que a Normal vai ficando cada vez menor mas é só em 30 mesmo que dá zero\n",
    "\n",
    "\n"
   ]
  }
 ],
 "metadata": {
  "anaconda-cloud": {},
  "kernelspec": {
   "display_name": "Python [conda root]",
   "language": "python",
   "name": "conda-root-py"
  },
  "language_info": {
   "codemirror_mode": {
    "name": "ipython",
    "version": 3
   },
   "file_extension": ".py",
   "mimetype": "text/x-python",
   "name": "python",
   "nbconvert_exporter": "python",
   "pygments_lexer": "ipython3",
   "version": "3.5.2"
  }
 },
 "nbformat": 4,
 "nbformat_minor": 1
}
