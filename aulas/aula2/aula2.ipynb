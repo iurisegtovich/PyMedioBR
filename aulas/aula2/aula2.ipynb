{
 "cells": [
  {
   "cell_type": "code",
   "execution_count": 23,
   "metadata": {
    "collapsed": true
   },
   "outputs": [],
   "source": [
    "import numpy as np #esse pacote tem as ferramentas de construção de matrizes"
   ]
  },
  {
   "cell_type": "code",
   "execution_count": 38,
   "metadata": {
    "collapsed": true
   },
   "outputs": [],
   "source": [
    "# vetores\n",
    "\n",
    "v=np.array([1,2,3])\n",
    "w=np.array([5,7,11])"
   ]
  },
  {
   "cell_type": "code",
   "execution_count": 25,
   "metadata": {
    "collapsed": false
   },
   "outputs": [
    {
     "name": "stdout",
     "output_type": "stream",
     "text": [
      "52\n"
     ]
    }
   ],
   "source": [
    "# lembra como é o produto interno\n",
    "\n",
    "# se e = v vezes w, então e = v1*w1+v2*w2\n",
    "\n",
    "#vamos programar isso para um par de vetores de tamanho 3?\n",
    "\n",
    "def produto_interno(vetor1,vetor2):\n",
    "    e=0\n",
    "    for i in range(3):\n",
    "        e += vetor1[i]*vetor2[i]\n",
    "    return e\n",
    "\n",
    "print(produto_interno(v,w))\n",
    "\n"
   ]
  },
  {
   "cell_type": "code",
   "execution_count": 26,
   "metadata": {
    "collapsed": false
   },
   "outputs": [
    {
     "name": "stdout",
     "output_type": "stream",
     "text": [
      "52\n"
     ]
    }
   ],
   "source": [
    "\n",
    "#vamos comparar com a função intrinsica do numpy, o dot\n",
    "\n",
    "print(np.dot(v,w))\n",
    "\n"
   ]
  },
  {
   "cell_type": "code",
   "execution_count": 30,
   "metadata": {
    "collapsed": false
   },
   "outputs": [
    {
     "name": "stdout",
     "output_type": "stream",
     "text": [
      "[[11 12 13]\n",
      " [21 22 23]\n",
      " [31 32 33]]\n"
     ]
    }
   ],
   "source": [
    "#uma matriz é assim\n",
    "\n",
    "M = np.array(  # M vai ser uma matriz, a função np.array constrói matrizes, o parenteses marca o inicio da passagem de informações q ele vai usar p construir a matriz\n",
    "    [ # esse colchete maraca o inicio da matriz\n",
    "        [ 11 , 12, 13 ], #cada par de colchetes aqui marca uma linha, separe os elementos por virgulas\n",
    "        [ 21,  22, 23 ],\n",
    "        [ 31,  32, 33 ]#mais uma virgula separa uma linha da outra\n",
    "    ] # aqui acabou a matriz\n",
    "            ) # acabaram as informações, pode construir\n",
    "\n",
    "print(M) #assim pedimos a impressão para ver como ficou"
   ]
  },
  {
   "cell_type": "code",
   "execution_count": 31,
   "metadata": {
    "collapsed": true
   },
   "outputs": [],
   "source": [
    "N = np.array(  # M vai ser uma matriz, a função np.array constrói matrizes, o parenteses marca o inicio da passagem de informações q ele vai usar p construir a matriz\n",
    "    [ # esse colchete maraca o inicio da matriz\n",
    "        [ 1 , 2, 3 ], #cada par de colchetes aqui marca uma linha, separe os elementos por virgulas\n",
    "        [ 5,  7, 11 ],\n",
    "        [ 13,  17, 19 ]#mais uma virgula separa uma linha da outra\n",
    "    ] # aqui acabou a matriz\n",
    "            )"
   ]
  },
  {
   "cell_type": "code",
   "execution_count": 33,
   "metadata": {
    "collapsed": false
   },
   "outputs": [
    {
     "name": "stdout",
     "output_type": "stream",
     "text": [
      "[[  240.   327.   412.]\n",
      " [  430.   587.   742.]\n",
      " [  620.   847.  1072.]]\n"
     ]
    }
   ],
   "source": [
    "# lembra como multiplica matrizes?\n",
    "\n",
    "# Se A é B vezes C\n",
    "# então cada elemento i,j de A é o produto interno entre um vetor com alinha i de B com um vetor com a coluna j de C\n",
    "\n",
    "def multiplica_matriz(matriz1,matriz2):\n",
    "    resposta = np.zeros([3,3])\n",
    "    for i in range(3):\n",
    "        for j in range(3):\n",
    "            resposta[i,j]=produto_interno(matriz1[i,:],matriz2[:,j])\n",
    "    return resposta\n",
    "\n",
    "print(multiplica_matriz(M,N))\n",
    "\n"
   ]
  },
  {
   "cell_type": "code",
   "execution_count": 36,
   "metadata": {
    "collapsed": false
   },
   "outputs": [
    {
     "name": "stdout",
     "output_type": "stream",
     "text": [
      "[[ 240  327  412]\n",
      " [ 430  587  742]\n",
      " [ 620  847 1072]]\n"
     ]
    }
   ],
   "source": [
    "#comapara com o intrinseco\n",
    "print(M @ N)"
   ]
  },
  {
   "cell_type": "code",
   "execution_count": 29,
   "metadata": {
    "collapsed": true
   },
   "outputs": [],
   "source": [
    "#representação matricial dos coeficientes dos vetores\n",
    "\n",
    "# v vai ser um vetor, a função np.array constrói vetores, o parenteses marca o inicio da passagem de informações q ele vai usar p construir o vetor\n",
    "# os coeficientes do vetor tem que ficar na forma de uma matriz coluna\n",
    "cv = np.array(  # v vai ser uma matriz coluna para representar o vetor, a função np.array constrói matrizes, o parenteses marca o inicio da passagem de informações q ele vai usar p construir a matriz\n",
    "    [ # esse colchete maraca o inicio da matriz\n",
    "        [ 1 ], #cada par de colchetes aqui marca uma linha\n",
    "        [ 2 ],\n",
    "        [ 3 ]# uma virgula separa uma linha da outra\n",
    "    ] # aqui acabou a matriz\n",
    "            ) # acabaram as informações, pode construir\n",
    "\n",
    "# outro vetor, contruido da mesma forma: representado por matriz coluna\n",
    "# mas agora que já explicamos a sintaxe vai escrito em uma linha de codigo apenas\n",
    "cw = np.array([[5],[7],[11]]) \n",
    "\n"
   ]
  },
  {
   "cell_type": "code",
   "execution_count": 39,
   "metadata": {
    "collapsed": false
   },
   "outputs": [
    {
     "name": "stdout",
     "output_type": "stream",
     "text": [
      "[[1]\n",
      " [2]\n",
      " [3]]\n",
      "[[ 5]\n",
      " [ 7]\n",
      " [11]]\n"
     ]
    }
   ],
   "source": [
    "#ou mais facil, aproveitando as definições antigas\n",
    "cv = np.array([v]).T\n",
    "cw = np.array([w]).T\n",
    "\n",
    "print(cv)\n",
    "print(cw)"
   ]
  },
  {
   "cell_type": "code",
   "execution_count": 45,
   "metadata": {
    "collapsed": false
   },
   "outputs": [
    {
     "name": "stdout",
     "output_type": "stream",
     "text": [
      "vtm\n",
      "[[146 152 158]]\n",
      "mv\n",
      "[[ 74]\n",
      " [134]\n",
      " [194]]\n",
      "vtv\n",
      "[[52]]\n",
      "vvt\n",
      "[[ 5  7 11]\n",
      " [10 14 22]\n",
      " [15 21 33]]\n"
     ]
    }
   ],
   "source": [
    "#vetrores e matrizes trasnspostas\n",
    "#multiplicaçção amtriz vetor e vice cersa\n",
    "\n",
    "#def multiplica_mv\n",
    "#def multiplica_vTm\n",
    "#def multiplica_vTv\n",
    "#def multiplica_vvT\n",
    "print(\"vtm\")\n",
    "print( cv.T @ M )\n",
    "print(\"mv\")\n",
    "print( M @ cv )\n",
    "print(\"vtv\")\n",
    "print( cv.T @ cw )\n",
    "print(\"vvt\")\n",
    "print( cv @ cw.T )\n",
    "#note todos os resultados preservam a estrutura matrixcial: dois pares de collchetes"
   ]
  },
  {
   "cell_type": "code",
   "execution_count": 47,
   "metadata": {
    "collapsed": false
   },
   "outputs": [
    {
     "name": "stdout",
     "output_type": "stream",
     "text": [
      "vtm\n",
      "[146 152 158]\n",
      "mv\n",
      "[ 74 134 194]\n",
      "vtv\n",
      "[52]\n",
      "vvt\n",
      "52\n",
      "vtmv\n",
      "924\n",
      "vtmv\n",
      "[[924]]\n"
     ]
    }
   ],
   "source": [
    "#cuidado\n",
    "print(\"vtm\")\n",
    "print( v.T @ M ) #mesmo resultado só q apenas 1 par de colchete\n",
    "print(\"mv\")\n",
    "print( M @ v ) #mesmo resultado só q apenas 1 par de colchete\n",
    "print(\"vtv\")\n",
    "print( v.T @ cw ) #mesmo resultado só q apenas 1 par de colchete\n",
    "print(\"vvt\")\n",
    "print( v @ w.T ) #intepretação com produto interno!!!! queríamos que virasse matriz quadrada!!! por isso tem que usar a representação matricial dos vetores!\n"
   ]
  }
 ],
 "metadata": {
  "anaconda-cloud": {},
  "kernelspec": {
   "display_name": "Python [conda root]",
   "language": "python",
   "name": "conda-root-py"
  },
  "language_info": {
   "codemirror_mode": {
    "name": "ipython",
    "version": 3
   },
   "file_extension": ".py",
   "mimetype": "text/x-python",
   "name": "python",
   "nbconvert_exporter": "python",
   "pygments_lexer": "ipython3",
   "version": "3.5.2"
  }
 },
 "nbformat": 4,
 "nbformat_minor": 1
}
