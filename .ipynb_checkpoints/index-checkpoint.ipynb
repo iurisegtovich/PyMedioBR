{
 "cells": [
  {
   "cell_type": "markdown",
   "metadata": {},
   "source": [
    "# Índice\n",
    "\n",
    "* Aula 1 - lógica de programação e sintaxe básica\n",
    "\n",
    "  * aula1.1 :: [ &lt;accesso&gt; ](aulas/aula1/parte_1/aula1.1.ipynb)\n",
    "\n",
    "  * aula1.2 :: [ &lt;accesso&gt; ](aulas/aula1/parte_2/aula1.2.ipynb)\n",
    "\n",
    "  * aula1.3 :: [ &lt;accesso&gt; ](aulas/aula1/parte_3/aula1.3.ipynb)\n",
    "\n",
    "  * aula1.4 :: [ &lt;accesso&gt; ](aulas/aula1/parte_4/aula1.4.ipynb)\n",
    "\n",
    "  * aula1.5 :: [ &lt;accesso&gt; ](aulas/aula1/parte_5/aula1.5.ipynb)\n",
    "\n",
    "  * aula1.6 :: [ &lt;accesso&gt; ](aulas/aula1/parte_6/aula1.6.ipynb)\n",
    "\n",
    "* Aula 2 - algebra linear: vetores e matrizes :: [ &lt;accesso&gt; ](aulas/aula2/aula2.ipynb)\n",
    "\n",
    "* Aula 3 - matemática -  funções e gráficos :: [ &lt;accesso&gt; ](aulas/aula3/aula3.ipynb)"
   ]
  }
 ],
 "metadata": {
  "anaconda-cloud": {},
  "kernelspec": {
   "display_name": "Python [default]",
   "language": "python",
   "name": "python3"
  },
  "language_info": {
   "codemirror_mode": {
    "name": "ipython",
    "version": 3
   },
   "file_extension": ".py",
   "mimetype": "text/x-python",
   "name": "python",
   "nbconvert_exporter": "python",
   "pygments_lexer": "ipython3",
   "version": "3.5.2"
  }
 },
 "nbformat": 4,
 "nbformat_minor": 1
}
